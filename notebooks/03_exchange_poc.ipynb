{
 "cells": [
  {
   "cell_type": "code",
   "execution_count": 2,
   "metadata": {},
   "outputs": [],
   "source": [
    "import requests\n",
    "import pandas as pd\n",
    "import os\n",
    "from dotenv import load_dotenv\n",
    "from enum import Enum"
   ]
  },
  {
   "cell_type": "code",
   "execution_count": 7,
   "metadata": {},
   "outputs": [],
   "source": [
    "load_dotenv()\n",
    "OER_API_KEY = os.getenv(\"OER_API_KEY\")"
   ]
  },
  {
   "cell_type": "code",
   "execution_count": 18,
   "metadata": {},
   "outputs": [],
   "source": [
    "class Currency(Enum):\n",
    "    GBP = \"GBP\"\n",
    "    EUR = \"EUR\"\n",
    "    USD = \"USD\"\n",
    "    JPY = \"JPY\"\n",
    "    CHF = \"CHF\"\n",
    "    CAD = \"CAD\"\n",
    "    AUD = \"AUD\"\n",
    "    NZD = \"NZD\"\n",
    "    ZAR = \"ZAR\"\n",
    "    CNY = \"CNY\"\n",
    "    HKD = \"HKD\"\n",
    "\n",
    "class OpenExchangeRateApi:\n",
    "    def __init__(self, api_key: str) -> None:\n",
    "        self.api_key = api_key\n",
    "        self.base_url = \"https://openexchangerates.org/api/latest.json\"\n",
    "        self.base_currency = Currency.USD # TODO: not supported in free plan\n",
    "        self.default_exchange_currencies = [\n",
    "            Currency.GBP,\n",
    "            Currency.EUR,\n",
    "            Currency.USD,\n",
    "            Currency.JPY, \n",
    "            Currency.CHF, \n",
    "            Currency.CAD, \n",
    "            Currency.AUD]\n",
    "\n",
    "    def get_latest(self, base_currency: Currency = Currency.GBP, exchangee_currencies: list[Currency] = None ) -> dict:\n",
    "        if exchangee_currencies is None:\n",
    "            exchangee_currencies = self.default_exchange_currencies\n",
    "        params = {\n",
    "            \"app_id\": self.api_key,\n",
    "            # \"base\": self.base_currency, # TODO: not supported in free plan\n",
    "            \"symbols\": \",\".join([currency.value for currency in exchangee_currencies])\n",
    "        }\n",
    "        response = requests.get(self.base_url, params=params)\n",
    "        if response.status_code != 200:\n",
    "            print(response.status_code)\n",
    "            print(response.text)\n",
    "            raise Exception(\"Failed to get jobs\")\n",
    "        return response.json()\n",
    "\n",
    "def load(dict_list: dict) -> pd.DataFrame:\n",
    "    timestamp = dict_list[\"timestamp\"] # UTC timestamp indicating the time the data was collected\n",
    "    pandas_timestamp = pd.Timestamp(timestamp, unit=\"s\")\n",
    "    base_currency = dict_list[\"base\"]\n",
    "    rates = dict_list[\"rates\"]\n",
    "    df = pd.DataFrame.from_dict(rates, orient=\"index\", columns=[\"rate\"])\n",
    "    df[\"timestamp\"] = pandas_timestamp\n",
    "    df[\"base_currency\"] = base_currency\n",
    "    return df\n",
    "    "
   ]
  },
  {
   "cell_type": "code",
   "execution_count": 8,
   "metadata": {},
   "outputs": [
    {
     "data": {
      "text/plain": [
       "{'disclaimer': 'Usage subject to terms: https://openexchangerates.org/terms',\n",
       " 'license': 'https://openexchangerates.org/license',\n",
       " 'timestamp': 1693306800,\n",
       " 'base': 'USD',\n",
       " 'rates': {'AUD': 1.554636,\n",
       "  'CAD': 1.36143,\n",
       "  'CHF': 0.885177,\n",
       "  'EUR': 0.925348,\n",
       "  'GBP': 0.794236,\n",
       "  'JPY': 146.784875,\n",
       "  'USD': 1}}"
      ]
     },
     "execution_count": 8,
     "metadata": {},
     "output_type": "execute_result"
    }
   ],
   "source": [
    "oer = OpenExchangeRateApi(OER_API_KEY)\n",
    "exchanges = oer.get_latest()\n",
    "exchanges"
   ]
  },
  {
   "cell_type": "code",
   "execution_count": 19,
   "metadata": {},
   "outputs": [
    {
     "data": {
      "text/html": [
       "<div>\n",
       "<style scoped>\n",
       "    .dataframe tbody tr th:only-of-type {\n",
       "        vertical-align: middle;\n",
       "    }\n",
       "\n",
       "    .dataframe tbody tr th {\n",
       "        vertical-align: top;\n",
       "    }\n",
       "\n",
       "    .dataframe thead th {\n",
       "        text-align: right;\n",
       "    }\n",
       "</style>\n",
       "<table border=\"1\" class=\"dataframe\">\n",
       "  <thead>\n",
       "    <tr style=\"text-align: right;\">\n",
       "      <th></th>\n",
       "      <th>rate</th>\n",
       "      <th>timestamp</th>\n",
       "      <th>base_currency</th>\n",
       "    </tr>\n",
       "  </thead>\n",
       "  <tbody>\n",
       "    <tr>\n",
       "      <th>AUD</th>\n",
       "      <td>1.554636</td>\n",
       "      <td>2023-08-29 11:00:00</td>\n",
       "      <td>USD</td>\n",
       "    </tr>\n",
       "    <tr>\n",
       "      <th>CAD</th>\n",
       "      <td>1.361430</td>\n",
       "      <td>2023-08-29 11:00:00</td>\n",
       "      <td>USD</td>\n",
       "    </tr>\n",
       "    <tr>\n",
       "      <th>CHF</th>\n",
       "      <td>0.885177</td>\n",
       "      <td>2023-08-29 11:00:00</td>\n",
       "      <td>USD</td>\n",
       "    </tr>\n",
       "    <tr>\n",
       "      <th>EUR</th>\n",
       "      <td>0.925348</td>\n",
       "      <td>2023-08-29 11:00:00</td>\n",
       "      <td>USD</td>\n",
       "    </tr>\n",
       "    <tr>\n",
       "      <th>GBP</th>\n",
       "      <td>0.794236</td>\n",
       "      <td>2023-08-29 11:00:00</td>\n",
       "      <td>USD</td>\n",
       "    </tr>\n",
       "    <tr>\n",
       "      <th>JPY</th>\n",
       "      <td>146.784875</td>\n",
       "      <td>2023-08-29 11:00:00</td>\n",
       "      <td>USD</td>\n",
       "    </tr>\n",
       "    <tr>\n",
       "      <th>USD</th>\n",
       "      <td>1.000000</td>\n",
       "      <td>2023-08-29 11:00:00</td>\n",
       "      <td>USD</td>\n",
       "    </tr>\n",
       "  </tbody>\n",
       "</table>\n",
       "</div>"
      ],
      "text/plain": [
       "           rate           timestamp base_currency\n",
       "AUD    1.554636 2023-08-29 11:00:00           USD\n",
       "CAD    1.361430 2023-08-29 11:00:00           USD\n",
       "CHF    0.885177 2023-08-29 11:00:00           USD\n",
       "EUR    0.925348 2023-08-29 11:00:00           USD\n",
       "GBP    0.794236 2023-08-29 11:00:00           USD\n",
       "JPY  146.784875 2023-08-29 11:00:00           USD\n",
       "USD    1.000000 2023-08-29 11:00:00           USD"
      ]
     },
     "execution_count": 19,
     "metadata": {},
     "output_type": "execute_result"
    }
   ],
   "source": [
    "df = load(exchanges)\n",
    "df"
   ]
  }
 ],
 "metadata": {
  "kernelspec": {
   "display_name": "dec_proj1",
   "language": "python",
   "name": "python3"
  },
  "language_info": {
   "codemirror_mode": {
    "name": "ipython",
    "version": 3
   },
   "file_extension": ".py",
   "mimetype": "text/x-python",
   "name": "python",
   "nbconvert_exporter": "python",
   "pygments_lexer": "ipython3",
   "version": "3.9.17"
  },
  "orig_nbformat": 4
 },
 "nbformat": 4,
 "nbformat_minor": 2
}
